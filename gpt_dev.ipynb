{
  "cells": [
    {
      "cell_type": "markdown",
      "metadata": {
        "id": "wJpXpmjEYC_T"
      },
      "source": [
        "## GPT Kodlamak\n",
        "\n",
        "[Zero To Hero](https://karpathy.ai/zero-to-hero.html) videosunda oluşturulan notebook."
      ]
    },
    {
      "cell_type": "code",
      "execution_count": 2,
      "metadata": {
        "id": "O6medjfRsLD9"
      },
      "outputs": [],
      "source": [
        "# read Nutuk in to inspect it\n",
        "with open('nutuk.txt', 'r', encoding='utf-8') as f:\n",
        "    text = f.read()"
      ]
    },
    {
      "cell_type": "code",
      "execution_count": 3,
      "metadata": {
        "colab": {
          "base_uri": "https://localhost:8080/"
        },
        "id": "6xWI_VyAsN8F",
        "outputId": "ed819dd0-72e5-40a6-d2ed-928ff73bfda6"
      },
      "outputs": [
        {
          "name": "stdout",
          "output_type": "stream",
          "text": [
            "length of dataset in characters:  1577732\n"
          ]
        }
      ],
      "source": [
        "print(\"length of dataset in characters: \", len(text))"
      ]
    },
    {
      "cell_type": "code",
      "execution_count": 4,
      "metadata": {
        "colab": {
          "base_uri": "https://localhost:8080/"
        },
        "id": "2c5V0FvqseE0",
        "outputId": "25ca7adc-b8c0-42d1-b08c-e0863c5c314e"
      },
      "outputs": [
        {
          "name": "stdout",
          "output_type": "stream",
          "text": [
            "sında\n",
            "Diyarbekir (Vesika: 8, 9), Bitlis, Elaziz vilayetlerin­\n",
            "de, İstanbul'dan idare olunan Kürt Teafi Cemiyeti!\n",
            "vardı. Bu cemiyetin maksadı, yabancı himayesi altında bir Kürt hükümeti vü­\n",
            "cuda getirmekti.\n",
            "Konya ve havalisinde, İstanbul'dan idare olunan Teaiii İslam Cemiyeti teş­\n",
            "kiline çalışılıyordu. Memleketin hemen her tarafında İtilaf ve Hürriyet, Sulh\n",
            "ve Selamet cemiyetleri de vardı.\n",
            "\n",
            "Memleket dahilinde\n",
            "ve İstanbul'da milli\n",
            "varlığa düşman\n",
            "teşekküller\n",
            "\n",
            "İngiliz Muhipleri\n",
            "Cemiyeti\n",
            "\n",
            "İstanbul'da, muhtelif maksatlarla gizli ve açık olmak\n",
            "üzere de birtakım fırka veya cemiyet unvanı altında te­\n",
            "şekküller vardı.\n",
            "İstanbul'da mühim sayılacak teşebbüslerden biri İngiliz Muhipleri Cemiyeti\n",
            "idi. Bu isimden, İngilizlere muhip2 olanların teşkil ettiği bir cemiyet anlaşılma­\n",
            "sın! Bence, bu cemiyeti teşkil edenler, kendi şahıslannı ve şahsi menfaatlannı\n",
            "sevenler ve şahıslanyla menfaatlannın dokunulmazlığı çaresini Loyd Core3 hü­\n",
            "kümeti marifetiyle İngiliz himayesini teminde arayanlardır. Bu bedbaht\n"
          ]
        }
      ],
      "source": [
        "# Print the character from 9000 to 10000 to see what it looks like\n",
        "print(text[9000:10000])"
      ]
    },
    {
      "cell_type": "code",
      "execution_count": 5,
      "metadata": {
        "colab": {
          "base_uri": "https://localhost:8080/"
        },
        "id": "0e-Rbyr8sfM8",
        "outputId": "f34e94a9-5b44-4cf3-885b-986731929109"
      },
      "outputs": [
        {
          "name": "stdout",
          "output_type": "stream",
          "text": [
            "\n",
            "\f !\"%'()*,-./0123456789:;<>?ABCDEFGHIJKLMNOPQRSTUVWYZ[\\]_abcdefghijklmnopqrstuvwxyz{§«­·ÇÖÜçôöüğİıŞş•�\n",
            "103\n"
          ]
        }
      ],
      "source": [
        "# here are all the unique characters that occur in this text\n",
        "chars = sorted(list(set(text)))\n",
        "vocab_size = len(chars)\n",
        "print(''.join(chars))\n",
        "print(vocab_size)"
      ]
    },
    {
      "cell_type": "code",
      "execution_count": 6,
      "metadata": {},
      "outputs": [
        {
          "name": "stdout",
          "output_type": "stream",
          "text": [
            "[71, 72, 68, 77, 58, 69, 66, 2, 79, 66, 75, 64, 78, 69]\n",
            "noktali virgul\n"
          ]
        }
      ],
      "source": [
        "# create a mapping from characters to integers\n",
        "stoi = { ch:i for i,ch in enumerate(chars) }\n",
        "itos = { i:ch for i,ch in enumerate(chars) }\n",
        "encode = lambda s: [stoi[c] for c in s] # encoder: take a string, output a list of integers\n",
        "decode = lambda l: ''.join([itos[i] for i in l]) # decoder: take a list of integers, output a string\n",
        "\n",
        "print(encode('noktali virgul'))\n",
        "print(decode(encode('noktali virgul')))"
      ]
    },
    {
      "cell_type": "code",
      "execution_count": 7,
      "metadata": {},
      "outputs": [
        {
          "name": "stdout",
          "output_type": "stream",
          "text": [
            "torch.Size([1577732]) torch.int64\n",
            "tensor([ 76,  98,  71,  61,  58,   0,  32,  66,  82,  58,  75,  59,  62,  68,\n",
            "         66,  75,   2,   7,  50,  62,  76,  66,  68,  58,  24,   2,  22,  10,\n",
            "          2,  23,   8,  10,   2,  30,  66,  77,  69,  66,  76,  10,   2,  33,\n",
            "         69,  58,  83,  66,  83,   2,  79,  66,  69,  58,  82,  62,  77,  69,\n",
            "         62,  75,  66,  71,  87,   0,  61,  62,  10,   2,  97,  76,  77,  58,\n",
            "         71,  59,  78,  69,   6,  61,  58,  71,   2,  66,  61,  58,  75,  62,\n",
            "          2,  72,  69,  78,  71,  58,  71,   2,  39,  95,  75,  77,   2,  48,\n",
            "         62,  58,  63,  66,   2,  31,  62,  70,  66,  82,  62,  77,  66,   3,\n",
            "          0,  79,  58,  75,  61,  98,  12,   2,  30,  78,   2,  60,  62,  70,\n",
            "         66,  82,  62,  77,  66,  71,   2,  70,  58,  68,  76,  58,  61,  98,\n",
            "         10,   2,  82,  58,  59,  58,  71,  60,  98,   2,  65,  66,  70,  58,\n",
            "         82,  62,  76,  66,   2,  58,  69,  77,  98,  71,  61,  58,   2,  59,\n",
            "         66,  75,   2,  39,  95,  75,  77,   2,  65,  95,  68,  95,  70,  62,\n",
            "         77,  66,   2,  79,  95,  87,   0,  60,  78,  61,  58,   2,  64,  62,\n",
            "         77,  66,  75,  70,  62,  68,  77,  66,  12,   0,  39,  72,  71,  82,\n",
            "         58,   2,  79,  62,   2,  65,  58,  79,  58,  69,  66,  76,  66,  71,\n",
            "         61,  62,  10,   2,  97,  76,  77,  58,  71,  59,  78,  69,   6,  61,\n",
            "         58,  71,   2,  66,  61,  58,  75,  62,   2,  72,  69,  78,  71,  58,\n",
            "         71,   2,  48,  62,  58,  66,  66,  66,   2,  97,  76,  69,  58,  70,\n",
            "          2,  31,  62,  70,  66,  82,  62,  77,  66,   2,  77,  62, 100,  87,\n",
            "          0,  68,  66,  69,  66,  71,  62,   2,  92,  58,  69,  98, 100,  98,\n",
            "         69,  98,  82,  72,  75,  61,  78,  12,   2,  41,  62,  70,  69,  62,\n",
            "         68,  62,  77,  66,  71,   2,  65,  62,  70,  62,  71,   2,  65,  62,\n",
            "         75,   2,  77,  58,  75,  58,  63,  98,  71,  61,  58,   2,  97,  77,\n",
            "         66,  69,  58,  63,   2,  79,  62,   2,  36,  95,  75,  75,  66,  82,\n",
            "         62,  77,  10,   2,  47,  78,  69,  65,   0,  79,  62,   2,  47,  62,\n",
            "         69,  58,  70,  62,  77,   2,  60,  62,  70,  66,  82,  62,  77,  69,\n",
            "         62,  75,  66,   2,  61,  62,   2,  79,  58,  75,  61,  98,  12,   0,\n",
            "          0,  41,  62,  70,  69,  62,  68,  62,  77,   2,  61,  58,  65,  66,\n",
            "         69,  66,  71,  61,  62,   0,  79,  62,   2,  97,  76,  77,  58,  71,\n",
            "         59,  78,  69,   6,  61,  58,   2,  70,  66,  69,  69,  66,   0,  79,\n",
            "         58,  75,  69,  98,  96,  58,   2,  61,  95, 100,  70,  58,  71,   0,\n",
            "         77,  62, 100,  62,  68,  68,  95,  69,  69,  62,  75,   0,   0,  97,\n",
            "         71,  64,  66,  69,  66,  83,   2,  41,  78,  65,  66,  73,  69,  62,\n",
            "         75,  66,   0,  31,  62,  70,  66,  82,  62,  77,  66,   0,   0,  97,\n",
            "         76,  77,  58,  71,  59,  78,  69,   6,  61,  58,  10,   2,  70,  78,\n",
            "         65,  77,  62,  69,  66,  63,   2,  70,  58,  68,  76,  58,  77,  69,\n",
            "         58,  75,  69,  58,   2,  64,  66,  83,  69,  66,   2,  79,  62,   2,\n",
            "         58,  92,  98,  68,   2,  72,  69,  70,  58,  68,   0,  95,  83,  62,\n",
            "         75,  62,   2,  61,  62,   2,  59,  66,  75,  77,  58,  68,  98,  70,\n",
            "          2,  63,  98,  75,  68,  58,   2,  79,  62,  82,  58,   2,  60,  62,\n",
            "         70,  66,  82,  62,  77,   2,  78,  71,  79,  58,  71,  98,   2,  58,\n",
            "         69,  77,  98,  71,  61,  58,   2,  77,  62,  87,   0, 100,  62,  68,\n",
            "         68,  95,  69,  69,  62,  75,   2,  79,  58,  75,  61,  98,  12,   0,\n",
            "         97,  76,  77,  58,  71,  59,  78,  69,   6,  61,  58,   2,  70,  95,\n",
            "         65,  66,  70,   2,  76,  58,  82,  98,  69,  58,  60,  58,  68,   2,\n",
            "         77,  62, 100,  62,  59,  59,  95,  76,  69,  62,  75,  61,  62,  71,\n",
            "          2,  59,  66,  75,  66,   2,  97,  71,  64,  66,  69,  66,  83,   2,\n",
            "         41,  78,  65,  66,  73,  69,  62,  75,  66,   2,  31,  62,  70,  66,\n",
            "         82,  62,  77,  66,   0,  66,  61,  66,  12,   2,  30,  78,   2,  66,\n",
            "         76,  66,  70,  61,  62,  71,  10,   2,  97,  71,  64,  66,  69,  66,\n",
            "         83,  69,  62,  75,  62,   2,  70,  78,  65,  66,  73,  16,   2,  72,\n",
            "         69,  58,  71,  69,  58,  75,  98,  71,   2,  77,  62, 100,  68,  66,\n",
            "         69,   2,  62,  77,  77,  66,  96,  66,   2,  59,  66,  75,   2,  60,\n",
            "         62,  70,  66,  82,  62,  77,   2,  58,  71,  69,  58, 100,  98,  69,\n",
            "         70,  58,  87,   0,  76,  98,  71,   3,   2,  30,  62,  71,  60,  62,\n",
            "         10,   2,  59,  78,   2,  60,  62,  70,  66,  82,  62,  77,  66,   2,\n",
            "         77,  62, 100,  68,  66,  69,   2,  62,  61,  62,  71,  69,  62,  75,\n",
            "         10,   2,  68,  62,  71,  61,  66,   2, 100,  58,  65,  98,  76,  69,\n",
            "         58,  71,  71,  98,   2,  79,  62,   2, 100,  58,  65,  76,  66,   2,\n",
            "         70,  62,  71,  63,  58,  58,  77,  69,  58,  71,  71,  98,   0,  76,\n",
            "         62,  79,  62,  71,  69,  62,  75,   2,  79,  62,   2, 100,  58,  65,\n",
            "         98,  76,  69,  58,  71,  82,  69,  58,   2,  70,  62,  71,  63,  58,\n",
            "         58,  77,  69,  58,  71,  71,  98,  71,   2,  61,  72,  68,  78,  71,\n",
            "         78,  69,  70,  58,  83,  69,  98,  96,  98,   2,  92,  58,  75,  62,\n",
            "         76,  66,  71,  66,   2,  40,  72,  82,  61,   2,  31,  72,  75,  62,\n",
            "         17,   2,  65,  95,  87,   0,  68,  95,  70,  62,  77,  66,   2,  70,\n",
            "         58,  75,  66,  63,  62,  77,  66,  82,  69,  62,   2,  97,  71,  64,\n",
            "         66,  69,  66,  83,   2,  65,  66,  70,  58,  82,  62,  76,  66,  71,\n",
            "         66,   2,  77,  62,  70,  66,  71,  61,  62,   2,  58,  75,  58,  82,\n",
            "         58,  71,  69,  58,  75,  61,  98,  75,  12,   2,  30,  78,   2,  59,\n",
            "         62,  61,  59,  58,  65,  77])\n"
          ]
        }
      ],
      "source": [
        "# let's now encode the entire text dataset and store it into a torch.Tensor\n",
        "import torch\n",
        "import torch.nn as nn\n",
        "from torch.nn import functional as F\n",
        "\n",
        "data = torch.tensor(encode(text), dtype=torch.long)\n",
        "print(data.shape, data.dtype)\n",
        "print(data[9000:10000]) # the 1000 characters we looked at earier will to the GPT look like this"
      ]
    },
    {
      "cell_type": "code",
      "execution_count": 8,
      "metadata": {},
      "outputs": [],
      "source": [
        "# Let's now split up the data into train and validation sets\n",
        "n = int(0.9*len(data)) # first 90% will be train, rest val\n",
        "train_data = data[:n]\n",
        "val_data = data[n:]\n",
        "\n",
        "# Why do we need a train and a validation set?"
      ]
    },
    {
      "cell_type": "code",
      "execution_count": 9,
      "metadata": {},
      "outputs": [
        {
          "data": {
            "text/plain": [
              "tensor([42, 49, 48, 49, 39, 37,  0,  0,  7])"
            ]
          },
          "execution_count": 9,
          "metadata": {},
          "output_type": "execute_result"
        }
      ],
      "source": [
        "# block_size is the maximum context length the model will be able to learn\n",
        "block_size = 8\n",
        "train_data[:block_size+1]"
      ]
    },
    {
      "cell_type": "code",
      "execution_count": 16,
      "metadata": {},
      "outputs": [
        {
          "name": "stdout",
          "output_type": "stream",
          "text": [
            "tensor([42, 49, 48, 49, 39, 37,  0,  0,  7, 15, 23, 15, 23, 11, 15, 23])\n",
            "when input is tensor([42, 49, 48, 49, 39, 37,  0,  0,  7]) the target: 15\n",
            "when input is tensor([49, 48, 49, 39, 37,  0,  0,  7, 15]) the target: 23\n",
            "when input is tensor([48, 49, 39, 37,  0,  0,  7, 15, 23]) the target: 15\n",
            "when input is tensor([49, 39, 37,  0,  0,  7, 15, 23, 15]) the target: 23\n",
            "when input is tensor([39, 37,  0,  0,  7, 15, 23, 15, 23]) the target: 11\n",
            "when input is tensor([37,  0,  0,  7, 15, 23, 15, 23, 11]) the target: 15\n",
            "when input is tensor([ 0,  0,  7, 15, 23, 15, 23, 11, 15]) the target: 23\n",
            "when input is tensor([ 0,  7, 15, 23, 15, 23, 11, 15, 23]) the target: 16\n"
          ]
        }
      ],
      "source": [
        "print(train_data[:block_size*2])\n",
        "x = train_data[:block_size*2]\n",
        "y = train_data[1:block_size*2+1]\n",
        "for t in range(block_size):\n",
        "    context = x[t:block_size+t+1]\n",
        "    target = y[block_size+t]\n",
        "    print(f\"when input is {context} the target: {target}\")\n"
      ]
    },
    {
      "cell_type": "code",
      "execution_count": 17,
      "metadata": {},
      "outputs": [
        {
          "name": "stdout",
          "output_type": "stream",
          "text": [
            "inputs:\n",
            "torch.Size([4, 8])\n",
            "tensor([[ 12,   2,  30,  58,  75,  98, 100,   2],\n",
            "        [ 58,  69,  98, 100,  98,  69,  70,  98],\n",
            "        [ 58,  82,  66,  70,   2,  79,  62,   2],\n",
            "        [ 70,  98, 100,  77,  98,  75,  12,   2]])\n",
            "targets:\n",
            "torch.Size([4, 8])\n",
            "tensor([[  2,  30,  58,  75,  98, 100,   2,  68],\n",
            "        [ 69,  98, 100,  98,  69,  70,  98, 100],\n",
            "        [ 82,  66,  70,   2,  79,  62,   2,  71],\n",
            "        [ 98, 100,  77,  98,  75,  12,   2,  97]])\n",
            "----\n",
            "when input is [12] the target: 2\n",
            "when input is [12, 2] the target: 30\n",
            "when input is [12, 2, 30] the target: 58\n",
            "when input is [12, 2, 30, 58] the target: 75\n",
            "when input is [12, 2, 30, 58, 75] the target: 98\n",
            "when input is [12, 2, 30, 58, 75, 98] the target: 100\n",
            "when input is [12, 2, 30, 58, 75, 98, 100] the target: 2\n",
            "when input is [12, 2, 30, 58, 75, 98, 100, 2] the target: 68\n",
            "when input is [58] the target: 69\n",
            "when input is [58, 69] the target: 98\n",
            "when input is [58, 69, 98] the target: 100\n",
            "when input is [58, 69, 98, 100] the target: 98\n",
            "when input is [58, 69, 98, 100, 98] the target: 69\n",
            "when input is [58, 69, 98, 100, 98, 69] the target: 70\n",
            "when input is [58, 69, 98, 100, 98, 69, 70] the target: 98\n",
            "when input is [58, 69, 98, 100, 98, 69, 70, 98] the target: 100\n",
            "when input is [58] the target: 82\n",
            "when input is [58, 82] the target: 66\n",
            "when input is [58, 82, 66] the target: 70\n",
            "when input is [58, 82, 66, 70] the target: 2\n",
            "when input is [58, 82, 66, 70, 2] the target: 79\n",
            "when input is [58, 82, 66, 70, 2, 79] the target: 62\n",
            "when input is [58, 82, 66, 70, 2, 79, 62] the target: 2\n",
            "when input is [58, 82, 66, 70, 2, 79, 62, 2] the target: 71\n",
            "when input is [70] the target: 98\n",
            "when input is [70, 98] the target: 100\n",
            "when input is [70, 98, 100] the target: 77\n",
            "when input is [70, 98, 100, 77] the target: 98\n",
            "when input is [70, 98, 100, 77, 98] the target: 75\n",
            "when input is [70, 98, 100, 77, 98, 75] the target: 12\n",
            "when input is [70, 98, 100, 77, 98, 75, 12] the target: 2\n",
            "when input is [70, 98, 100, 77, 98, 75, 12, 2] the target: 97\n"
          ]
        }
      ],
      "source": [
        "torch.manual_seed(42)\n",
        "batch_size = 4 # how many independent sequences will we process in parallel?\n",
        "block_size = 8 # what is the maximum context length for predictions?\n",
        "\n",
        "def get_batch(split):\n",
        "    # generate a small batch of data of inputs x and targets y\n",
        "    data = train_data if split == 'train' else val_data\n",
        "    ix = torch.randint(len(data) - block_size, (batch_size,))\n",
        "    x = torch.stack([data[i:i+block_size] for i in ix])\n",
        "    y = torch.stack([data[i+1:i+block_size+1] for i in ix])\n",
        "    return x, y\n",
        "\n",
        "xb, yb = get_batch('train')\n",
        "print('inputs:')\n",
        "print(xb.shape)\n",
        "print(xb)\n",
        "print('targets:')\n",
        "print(yb.shape)\n",
        "print(yb)\n",
        "\n",
        "print('----')\n",
        "\n",
        "for b in range(batch_size): # batch dimension\n",
        "    for t in range(block_size): # time dimension\n",
        "        context = xb[b, :t+1]\n",
        "        target = yb[b,t]\n",
        "        print(f\"when input is {context.tolist()} the target: {target}\")"
      ]
    },
    {
      "cell_type": "markdown",
      "metadata": {},
      "source": [
        "## Token Embedding\n",
        "\n",
        "Her bir tokenin temsil ettigi feature vector olacak.\n",
        "Yazacagimiz kodun init fonksiyonu:\n",
        "\n",
        "```\n",
        "def __init__(self):\n",
        "    super().__init__()\n",
        "    # each token directly reads off the logits for the next token from a lookup table\n",
        "    self.token_embedding_table = nn.Embedding(vocab_size, n_embd)\n",
        "    self.position_embedding_table = nn.Embedding(block_size, n_embd)\n",
        "    self.blocks = nn.Sequential(*[Block(n_embd, n_head=n_head) for _ in range(n_layer)])\n",
        "    self.ln_f = nn.LayerNorm(n_embd) # final layer norm\n",
        "    self.lm_head = nn.Linear(n_embd, vocab_size)\n",
        "\n",
        "    # better init, not covered in the original GPT video, but important, will cover in followup video\n",
        "    self.apply(self._init_weights)\n",
        "```\n",
        "\n",
        "Vocab_size imiz kadar row, n_embd kadar da column. Her bir karakter/token'in kendine ait ogrenilebilir bir degeri olmasi gerekiyor. Yukarida tokenleri sayi indekslerine cevirdik ancak mesela 'bosluk' karakteri ile '!' karakterleri ikisi de tek bir integer olarak ifade edilse, modelin 'bosluk' karakterinin degerini anlamasi cok zor. Ancak bunlari modelin ogrenebilecegi buyuk bir vektor ile ifade edersek, bu sefer karakterler kendi basina da bayagi bir anlam ifade edecektir."
      ]
    },
    {
      "cell_type": "markdown",
      "metadata": {},
      "source": [
        "## Weighted aggregation in self-attention"
      ]
    },
    {
      "cell_type": "markdown",
      "metadata": {},
      "source": [
        "n o k t a l i ' ' v i r g u l\n",
        "3 5 7 8 2 4 6  8  4 3 9 0 1 8"
      ]
    },
    {
      "cell_type": "code",
      "execution_count": 19,
      "metadata": {},
      "outputs": [
        {
          "data": {
            "text/plain": [
              "5.222222222222222"
            ]
          },
          "execution_count": 19,
          "metadata": {},
          "output_type": "execute_result"
        }
      ],
      "source": [
        "v_value = (4 + (3+5+7+8+2+4+6+8))/9\n",
        "v_value"
      ]
    },
    {
      "cell_type": "code",
      "execution_count": 21,
      "metadata": {},
      "outputs": [
        {
          "name": "stdout",
          "output_type": "stream",
          "text": [
            "torch.Size([4, 8, 2])\n",
            "tensor([[ 0.1808, -0.0700],\n",
            "        [-0.3596, -0.9152],\n",
            "        [ 0.6258,  0.0255],\n",
            "        [ 0.9545,  0.0643],\n",
            "        [ 0.3612,  1.1679],\n",
            "        [-1.3499, -0.5102],\n",
            "        [ 0.2360, -0.2398],\n",
            "        [-0.9211,  1.5433]])\n"
          ]
        }
      ],
      "source": [
        "torch.manual_seed(1337)\n",
        "B,T,C = 4,8,2 # batch, time, channels\n",
        "x = torch.randn(B,T,C)\n",
        "print(x.shape)\n",
        "print(x[0])"
      ]
    },
    {
      "cell_type": "code",
      "execution_count": 23,
      "metadata": {},
      "outputs": [
        {
          "name": "stdout",
          "output_type": "stream",
          "text": [
            "tensor([[1.0000, 0.0000, 0.0000, 0.0000, 0.0000, 0.0000, 0.0000, 0.0000],\n",
            "        [0.5000, 0.5000, 0.0000, 0.0000, 0.0000, 0.0000, 0.0000, 0.0000],\n",
            "        [0.3333, 0.3333, 0.3333, 0.0000, 0.0000, 0.0000, 0.0000, 0.0000],\n",
            "        [0.2500, 0.2500, 0.2500, 0.2500, 0.0000, 0.0000, 0.0000, 0.0000],\n",
            "        [0.2000, 0.2000, 0.2000, 0.2000, 0.2000, 0.0000, 0.0000, 0.0000],\n",
            "        [0.1667, 0.1667, 0.1667, 0.1667, 0.1667, 0.1667, 0.0000, 0.0000],\n",
            "        [0.1429, 0.1429, 0.1429, 0.1429, 0.1429, 0.1429, 0.1429, 0.0000],\n",
            "        [0.1250, 0.1250, 0.1250, 0.1250, 0.1250, 0.1250, 0.1250, 0.1250]])\n",
            "tensor([[ 0.1808, -0.0700],\n",
            "        [-0.3596, -0.9152],\n",
            "        [ 0.6258,  0.0255],\n",
            "        [ 0.9545,  0.0643],\n",
            "        [ 0.3612,  1.1679],\n",
            "        [-1.3499, -0.5102],\n",
            "        [ 0.2360, -0.2398],\n",
            "        [-0.9211,  1.5433]])\n",
            "tensor([[ 0.1808, -0.0700],\n",
            "        [-0.0894, -0.4926],\n",
            "        [ 0.1490, -0.3199],\n",
            "        [ 0.3504, -0.2238],\n",
            "        [ 0.3525,  0.0545],\n",
            "        [ 0.0688, -0.0396],\n",
            "        [ 0.0927, -0.0682],\n",
            "        [-0.0341,  0.1332]])\n"
          ]
        }
      ],
      "source": [
        "# use Softmax\n",
        "tril = torch.tril(torch.ones(T, T))\n",
        "wei = torch.zeros((T,T))\n",
        "wei = wei.masked_fill(tril == 0, float('-inf'))\n",
        "wei = F.softmax(wei, dim=-1)\n",
        "xbow = wei @ x # bag of words\n",
        "print(wei)\n",
        "print(x[0])\n",
        "print(xbow[0])"
      ]
    },
    {
      "cell_type": "markdown",
      "metadata": {},
      "source": [
        "# Self-Attention"
      ]
    },
    {
      "cell_type": "markdown",
      "metadata": {},
      "source": [
        "key, query, value \n",
        "\n",
        "n o k t a l i ' ' v i r g u l\n",
        "\n",
        "n -> key_n, query_n, value_n\n",
        "o -> key_o, query_o, value_o\n",
        "...\n",
        "\n",
        "Query: Ne ariyorum?\n",
        "Key: Neye sahibim?\n",
        "Value: Degerim ne?\n",
        "\n",
        "wei = query.key\n",
        "wei*value"
      ]
    },
    {
      "cell_type": "code",
      "execution_count": 26,
      "metadata": {},
      "outputs": [
        {
          "name": "stdout",
          "output_type": "stream",
          "text": [
            "torch.Size([4, 8, 16])\n",
            "tensor([[-0.1571,  0.8801,  0.1615, -0.7824, -0.1429,  0.7468,  0.1007, -0.5239,\n",
            "         -0.8873,  0.1907,  0.1762, -0.5943, -0.4812, -0.4860,  0.2862,  0.5710],\n",
            "        [ 0.6764, -0.5477, -0.2478,  0.3143, -0.1280, -0.2952, -0.4296, -0.1089,\n",
            "         -0.0493,  0.7268,  0.7130, -0.1164,  0.3266,  0.3431, -0.0710,  1.2716],\n",
            "        [ 0.4823, -0.1069, -0.4055,  0.1770,  0.1581, -0.1697,  0.0162,  0.0215,\n",
            "         -0.2490, -0.3773,  0.2787,  0.1629, -0.2895, -0.0676, -0.1416,  1.2194],\n",
            "        [ 0.1971,  0.2856, -0.1303, -0.2655,  0.0668,  0.1954,  0.0281, -0.2451,\n",
            "         -0.4647,  0.0693,  0.1528, -0.2032, -0.2479, -0.1621,  0.1947,  0.7678],\n",
            "        [ 0.2510,  0.7346,  0.5939,  0.2516,  0.2606,  0.7582,  0.5595,  0.3539,\n",
            "         -0.5934, -1.0807, -0.3111, -0.2781, -0.9054,  0.1318, -0.1382,  0.6371],\n",
            "        [ 0.3428,  0.4960,  0.4725,  0.3028,  0.1844,  0.5814,  0.3824,  0.2952,\n",
            "         -0.4897, -0.7705, -0.1172, -0.2541, -0.6892,  0.1979, -0.1513,  0.7666],\n",
            "        [ 0.1866, -0.0964, -0.1430,  0.3059,  0.0834, -0.0069, -0.2047, -0.1535,\n",
            "         -0.0762,  0.3269,  0.3090,  0.0766,  0.0992,  0.1656,  0.1975,  0.7625],\n",
            "        [ 0.1301, -0.0328, -0.4965,  0.2865,  0.2704, -0.2636, -0.0738,  0.3786,\n",
            "          0.0746,  0.0338,  0.0147,  0.3194,  0.2993, -0.1653, -0.0386,  0.3375]],\n",
            "       grad_fn=<SelectBackward0>)\n"
          ]
        }
      ],
      "source": [
        "# version 4: self-attention!\n",
        "torch.manual_seed(1337)\n",
        "B,T,C = 4,8,32 # batch, time, channels\n",
        "x = torch.randn(B,T,C)\n",
        "\n",
        "# let's see a single Head perform self-attention\n",
        "head_size = 16\n",
        "key = nn.Linear(C, head_size, bias=False)\n",
        "query = nn.Linear(C, head_size, bias=False)\n",
        "value = nn.Linear(C, head_size, bias=False)\n",
        "k = key(x)   # (B, T, 16)\n",
        "q = query(x) # (B, T, 16)\n",
        "wei =  q @ k.transpose(-2, -1) # (B, T, 16) @ (B, 16, T) ---> (B, T, T)\n",
        "\n",
        "tril = torch.tril(torch.ones(T, T))\n",
        "wei = wei.masked_fill(tril == 0, float('-inf')) # masklememiz lazim cunku gelecege bakamayiz + encoder yapmak icin tek silmemiz gereken satir\n",
        "wei = F.softmax(wei, dim=-1)\n",
        "\n",
        "v = value(x)\n",
        "out = wei @ v\n",
        "#out = wei @ x\n",
        "\n",
        "print(out.shape)\n",
        "print(out[0])"
      ]
    },
    {
      "cell_type": "code",
      "execution_count": 27,
      "metadata": {},
      "outputs": [
        {
          "data": {
            "text/plain": [
              "tensor([[[1.0000, 0.0000, 0.0000, 0.0000, 0.0000, 0.0000, 0.0000, 0.0000],\n",
              "         [0.1574, 0.8426, 0.0000, 0.0000, 0.0000, 0.0000, 0.0000, 0.0000],\n",
              "         [0.2088, 0.1646, 0.6266, 0.0000, 0.0000, 0.0000, 0.0000, 0.0000],\n",
              "         [0.5792, 0.1187, 0.1889, 0.1131, 0.0000, 0.0000, 0.0000, 0.0000],\n",
              "         [0.0294, 0.1052, 0.0469, 0.0276, 0.7909, 0.0000, 0.0000, 0.0000],\n",
              "         [0.0176, 0.2689, 0.0215, 0.0089, 0.6812, 0.0019, 0.0000, 0.0000],\n",
              "         [0.1691, 0.4066, 0.0438, 0.0416, 0.1048, 0.2012, 0.0329, 0.0000],\n",
              "         [0.0210, 0.0843, 0.0555, 0.2297, 0.0573, 0.0709, 0.2423, 0.2391]],\n",
              "\n",
              "        [[1.0000, 0.0000, 0.0000, 0.0000, 0.0000, 0.0000, 0.0000, 0.0000],\n",
              "         [0.1687, 0.8313, 0.0000, 0.0000, 0.0000, 0.0000, 0.0000, 0.0000],\n",
              "         [0.2477, 0.0514, 0.7008, 0.0000, 0.0000, 0.0000, 0.0000, 0.0000],\n",
              "         [0.4410, 0.0957, 0.3747, 0.0887, 0.0000, 0.0000, 0.0000, 0.0000],\n",
              "         [0.0069, 0.0456, 0.0300, 0.7748, 0.1427, 0.0000, 0.0000, 0.0000],\n",
              "         [0.0660, 0.0892, 0.0413, 0.6316, 0.1649, 0.0069, 0.0000, 0.0000],\n",
              "         [0.0396, 0.2288, 0.0090, 0.2000, 0.2061, 0.1949, 0.1217, 0.0000],\n",
              "         [0.3650, 0.0474, 0.0767, 0.0293, 0.3084, 0.0784, 0.0455, 0.0493]],\n",
              "\n",
              "        [[1.0000, 0.0000, 0.0000, 0.0000, 0.0000, 0.0000, 0.0000, 0.0000],\n",
              "         [0.4820, 0.5180, 0.0000, 0.0000, 0.0000, 0.0000, 0.0000, 0.0000],\n",
              "         [0.1705, 0.4550, 0.3745, 0.0000, 0.0000, 0.0000, 0.0000, 0.0000],\n",
              "         [0.0074, 0.7444, 0.0477, 0.2005, 0.0000, 0.0000, 0.0000, 0.0000],\n",
              "         [0.8359, 0.0416, 0.0525, 0.0580, 0.0119, 0.0000, 0.0000, 0.0000],\n",
              "         [0.1195, 0.2061, 0.1019, 0.1153, 0.1814, 0.2758, 0.0000, 0.0000],\n",
              "         [0.0065, 0.0589, 0.0372, 0.3063, 0.1325, 0.3209, 0.1378, 0.0000],\n",
              "         [0.1416, 0.1519, 0.0384, 0.1643, 0.1207, 0.1254, 0.0169, 0.2408]],\n",
              "\n",
              "        [[1.0000, 0.0000, 0.0000, 0.0000, 0.0000, 0.0000, 0.0000, 0.0000],\n",
              "         [0.6369, 0.3631, 0.0000, 0.0000, 0.0000, 0.0000, 0.0000, 0.0000],\n",
              "         [0.2586, 0.7376, 0.0038, 0.0000, 0.0000, 0.0000, 0.0000, 0.0000],\n",
              "         [0.4692, 0.3440, 0.1237, 0.0631, 0.0000, 0.0000, 0.0000, 0.0000],\n",
              "         [0.1865, 0.4680, 0.0353, 0.1854, 0.1248, 0.0000, 0.0000, 0.0000],\n",
              "         [0.0828, 0.7479, 0.0017, 0.0735, 0.0712, 0.0228, 0.0000, 0.0000],\n",
              "         [0.0522, 0.0517, 0.0961, 0.0375, 0.1024, 0.5730, 0.0872, 0.0000],\n",
              "         [0.0306, 0.2728, 0.0333, 0.1409, 0.1414, 0.0582, 0.0825, 0.2402]]],\n",
              "       grad_fn=<SoftmaxBackward0>)"
            ]
          },
          "execution_count": 27,
          "metadata": {},
          "output_type": "execute_result"
        }
      ],
      "source": [
        "wei\n"
      ]
    },
    {
      "cell_type": "markdown",
      "metadata": {},
      "source": [
        "Notes:\n",
        "- Attention is a **communication mechanism**. Can be seen as nodes in a directed graph looking at each other and aggregating information with a weighted sum from all nodes that point to them, with data-dependent weights.\n",
        "- There is no notion of space. Attention simply acts over a set of vectors. This is why we need to positionally encode tokens.\n",
        "- Each example across batch dimension is of course processed completely independently and never \"talk\" to each other\n",
        "- In an \"encoder\" attention block just delete the single line that does masking with `tril`, allowing all tokens to communicate. This block here is called a \"decoder\" attention block because it has triangular masking, and is usually used in autoregressive settings, like language modeling.\n",
        "- \"self-attention\" just means that the keys and values are produced from the same source as queries. In \"cross-attention\", the queries still get produced from x, but the keys and values come from some other, external source (e.g. an encoder module)\n",
        "- \"Scaled\" attention additional divides `wei` by 1/sqrt(head_size). This makes it so when input Q,K are unit variance, wei will be unit variance too and Softmax will stay diffuse and not saturate too much. Illustration below"
      ]
    },
    {
      "cell_type": "code",
      "execution_count": null,
      "metadata": {},
      "outputs": [],
      "source": [
        "# Bizim durumumuzda gecmisteki nodelar gelecekteki nodelar hakkinda bilgiye sahip degil. Ancak bu her zaman boyle olmak zorunda degil.\n",
        "# Bazi mimarilerde nodelarin hepsinin birbiriyle aggregationina bakilabilir.\n",
        "# Bizim yaptigimiza decoder block, hepsinin birbiriyle iletisim kurduguna da encoder block deniyor.\n",
        "# Dolayisiyla bu yuzden decoder-only bir mimari ile devam edecegiz.\n",
        "\n",
        "# French to English translation example:\n",
        "\n",
        "# <--------- ENCODE ------------------><--------------- DECODE ----------------->\n",
        "# les réseaux de neurones sont géniaux! <START> neural networks are awesome!<END>\n",
        "\n"
      ]
    },
    {
      "cell_type": "code",
      "execution_count": null,
      "metadata": {},
      "outputs": [],
      "source": [
        "n_embd = 256 # Embedding dimension (hidden size). Each token is mapped to a vector of size 256.\n",
        "dropout = 0.2 # Dropout rate for regularization.\n",
        "\n",
        "class Head(nn.Module):\n",
        "    \"\"\" one head of self-attention \"\"\"\n",
        "    \"\"\" Scaled Dot-Product Attention in the paper \"\"\"\n",
        "\n",
        "    def __init__(self, head_size):\n",
        "        super().__init__()\n",
        "        self.key = nn.Linear(n_embd, head_size, bias=False)\n",
        "        self.query = nn.Linear(n_embd, head_size, bias=False)\n",
        "        self.value = nn.Linear(n_embd, head_size, bias=False)\n",
        "        self.register_buffer('tril', torch.tril(torch.ones(block_size, block_size)))\n",
        "\n",
        "        self.dropout = nn.Dropout(dropout) # Her forward pass'te, bazı neuronlari rastgele sifirlariz. Regularization teknigi.\n",
        "\n",
        "    def forward(self, x):\n",
        "        # input of size (batch, time-step, channels)\n",
        "        # output of size (batch, time-step, head size)\n",
        "        B,T,C = x.shape\n",
        "        k = self.key(x)   # (B,T,hs)\n",
        "        q = self.query(x) # (B,T,hs)\n",
        "        # compute attention scores (\"affinities\")\n",
        "        wei = q @ k.transpose(-2,-1) * k.shape[-1]**-0.5 # (B, T, hs) @ (B, hs, T) -> (B, T, T)\n",
        "        wei = wei.masked_fill(self.tril[:T, :T] == 0, float('-inf')) # (B, T, T)\n",
        "        wei = F.softmax(wei, dim=-1) # (B, T, T)\n",
        "        wei = self.dropout(wei)\n",
        "        # perform the weighted aggregation of the values\n",
        "        v = self.value(x) # (B,T,hs)\n",
        "        out = wei @ v # (B, T, T) @ (B, T, hs) -> (B, T, hs)\n",
        "        return out"
      ]
    },
    {
      "cell_type": "code",
      "execution_count": null,
      "metadata": {},
      "outputs": [],
      "source": [
        "class MultiHeadAttention(nn.Module):\n",
        "    \"\"\" multiple heads of self-attention in parallel \"\"\"\n",
        "    \"\"\" Multi-Head Attention in the paper \"\"\"\n",
        "\n",
        "    def __init__(self, num_heads, head_size):\n",
        "        super().__init__()\n",
        "        self.heads = nn.ModuleList([Head(head_size) for _ in range(num_heads)])\n",
        "        self.proj = nn.Linear(head_size * num_heads, n_embd)\n",
        "        self.dropout = nn.Dropout(dropout)\n",
        "\n",
        "    def forward(self, x):\n",
        "        out = torch.cat([h(x) for h in self.heads], dim=-1)\n",
        "        out = self.dropout(self.proj(out))\n",
        "        return out"
      ]
    },
    {
      "cell_type": "code",
      "execution_count": 28,
      "metadata": {},
      "outputs": [],
      "source": [
        "class FeedFoward(nn.Module):\n",
        "    \"\"\" a simple linear layer followed by a non-linearity \"\"\"\n",
        "    \"\"\" Position-wise Feed-Forward Networks in the paper \"\"\"\n",
        "    # Tokenlerin birbiri ile iletisiminden sonra 'dusunecek bir zaman'a ihtiyaclari var. Onun gerceklestirildigi layer.\n",
        "\n",
        "    def __init__(self, n_embd):\n",
        "        super().__init__()\n",
        "        self.net = nn.Sequential(\n",
        "            nn.Linear(n_embd, 4 * n_embd),\n",
        "            nn.ReLU(),\n",
        "            nn.Linear(4 * n_embd, n_embd),\n",
        "            nn.Dropout(dropout),\n",
        "        )\n",
        "\n",
        "    def forward(self, x):\n",
        "        return self.net(x)"
      ]
    },
    {
      "cell_type": "code",
      "execution_count": null,
      "metadata": {},
      "outputs": [],
      "source": [
        "\n",
        "class Block(nn.Module):\n",
        "    \"\"\" Transformer block: communication followed by computation \"\"\"\n",
        "\n",
        "    def __init__(self, n_embd, n_head):\n",
        "        # n_embd: embedding dimension, n_head: the number of heads we'd like\n",
        "        super().__init__()\n",
        "        head_size = n_embd // n_head\n",
        "        self.sa = MultiHeadAttention(n_head, head_size) # -> communication\n",
        "        self.ffwd = FeedFoward(n_embd) # -> computation\n",
        "\n",
        "        self.ln1 = nn.LayerNorm(n_embd) # LayerNorm ensures that the added vectors (original + transformed) are on compatible scales.\n",
        "        self.ln2 = nn.LayerNorm(n_embd) # By normalizing across features per token, gradients don’t get stuck due to extreme values.\n",
        "        # Bu normalde paperda multihead attention ve feedforward layerlardan once yapiliyor ama artik sonrasinda yapmak daha yaygin. #\n",
        "\n",
        "    def forward(self, x):\n",
        "        # x = self.sa(self.ln1(x))\n",
        "        # x = self.ffwd(self.ln2(x))\n",
        "        x = x + self.sa(self.ln1(x)) # -> Residual connection\n",
        "        x = x + self.ffwd(self.ln2(x)) # -> Residual connection\n",
        "        return x"
      ]
    },
    {
      "cell_type": "code",
      "execution_count": null,
      "metadata": {},
      "outputs": [],
      "source": [
        "\n",
        "n_head = 6 # Number of attention heads in multi-head self-attention.\n",
        "n_layer = 6 # Number of Transformer blocks stacked.\n",
        "\n",
        "class GPTLanguageModel(nn.Module):\n",
        "\n",
        "    def __init__(self):\n",
        "        super().__init__()\n",
        "        # each token directly reads off the logits for the next token from a lookup table\n",
        "        self.token_embedding_table = nn.Embedding(vocab_size, n_embd)\n",
        "        self.position_embedding_table = nn.Embedding(block_size, n_embd)\n",
        "        self.blocks = nn.Sequential(*[Block(n_embd, n_head=n_head) for _ in range(n_layer)])\n",
        "        self.ln_f = nn.LayerNorm(n_embd) # final layer norm\n",
        "        self.lm_head = nn.Linear(n_embd, vocab_size)\n",
        "\n",
        "        self.apply(self._init_weights)\n",
        "\n",
        "    def _init_weights(self, module):\n",
        "        if isinstance(module, nn.Linear):\n",
        "            torch.nn.init.normal_(module.weight, mean=0.0, std=0.02)\n",
        "            if module.bias is not None:\n",
        "                torch.nn.init.zeros_(module.bias)\n",
        "        elif isinstance(module, nn.Embedding):\n",
        "            torch.nn.init.normal_(module.weight, mean=0.0, std=0.02)\n",
        "\n",
        "    def forward(self, idx, targets=None):\n",
        "        B, T = idx.shape\n",
        "\n",
        "        # idx and targets are both (B,T) tensor of integers\n",
        "        tok_emb = self.token_embedding_table(idx) # (B,T,C)\n",
        "        pos_emb = self.position_embedding_table(torch.arange(T, device=device)) # (T,C)\n",
        "        x = tok_emb + pos_emb # (B,T,C)\n",
        "        x = self.blocks(x) # (B,T,C)\n",
        "        x = self.ln_f(x) # (B,T,C)\n",
        "        logits = self.lm_head(x) # (B,T,vocab_size)\n",
        "\n",
        "        if targets is None:\n",
        "            loss = None\n",
        "        else:\n",
        "            B, T, C = logits.shape\n",
        "            logits = logits.view(B*T, C)\n",
        "            targets = targets.view(B*T)\n",
        "            loss = F.cross_entropy(logits, targets)\n",
        "\n",
        "        return logits, loss\n",
        "\n",
        "    def generate(self, idx, max_new_tokens):\n",
        "        # idx is (B, T) array of indices in the current context\n",
        "        for _ in range(max_new_tokens):\n",
        "            # crop idx to the last block_size tokens\n",
        "            idx_cond = idx[:, -block_size:]\n",
        "            # get the predictions\n",
        "            logits, loss = self(idx_cond)\n",
        "            # focus only on the last time step\n",
        "            logits = logits[:, -1, :] # becomes (B, C)\n",
        "            # apply softmax to get probabilities\n",
        "            probs = F.softmax(logits, dim=-1) # (B, C)\n",
        "            # sample from the distribution\n",
        "            idx_next = torch.multinomial(probs, num_samples=1) # (B, 1)\n",
        "            # append sampled index to the running sequence\n",
        "            idx = torch.cat((idx, idx_next), dim=1) # (B, T+1)\n",
        "        return idx"
      ]
    }
  ],
  "metadata": {
    "colab": {
      "provenance": []
    },
    "kernelspec": {
      "display_name": "GenAI",
      "language": "python",
      "name": "python3"
    },
    "language_info": {
      "codemirror_mode": {
        "name": "ipython",
        "version": 3
      },
      "file_extension": ".py",
      "mimetype": "text/x-python",
      "name": "python",
      "nbconvert_exporter": "python",
      "pygments_lexer": "ipython3",
      "version": "3.10.16"
    }
  },
  "nbformat": 4,
  "nbformat_minor": 0
}
